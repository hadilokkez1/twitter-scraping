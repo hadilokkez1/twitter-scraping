{
 "cells": [
  {
   "cell_type": "code",
   "execution_count": 4,
   "id": "8f26c963",
   "metadata": {},
   "outputs": [
    {
     "name": "stdout",
     "output_type": "stream",
     "text": [
      "Collecting facebook-scraper\n",
      "  Using cached facebook_scraper-0.2.45-py3-none-any.whl (34 kB)\n",
      "Collecting requests-html<0.11.0,>=0.10.0\n",
      "  Using cached requests_html-0.10.0-py3-none-any.whl (13 kB)\n",
      "Collecting dateparser<2.0.0,>=1.0.0\n",
      "  Using cached dateparser-1.0.0-py2.py3-none-any.whl (279 kB)\n",
      "Collecting demjson<3.0.0,>=2.2.4\n",
      "  Using cached demjson-2.2.4.tar.gz (131 kB)\n",
      "Requirement already satisfied: python-dateutil in c:\\users\\aicha\\anaconda3\\lib\\site-packages (from dateparser<2.0.0,>=1.0.0->facebook-scraper) (2.8.1)\n",
      "Requirement already satisfied: regex!=2019.02.19 in c:\\users\\aicha\\anaconda3\\lib\\site-packages (from dateparser<2.0.0,>=1.0.0->facebook-scraper) (2021.4.4)\n",
      "Requirement already satisfied: pytz in c:\\users\\aicha\\anaconda3\\lib\\site-packages (from dateparser<2.0.0,>=1.0.0->facebook-scraper) (2021.1)\n",
      "Collecting tzlocal\n",
      "  Using cached tzlocal-3.0-py3-none-any.whl (16 kB)\n",
      "Collecting fake-useragent\n",
      "  Using cached fake-useragent-0.1.11.tar.gz (13 kB)\n",
      "Collecting w3lib\n",
      "  Using cached w3lib-1.22.0-py2.py3-none-any.whl (20 kB)\n",
      "Requirement already satisfied: requests in c:\\users\\aicha\\anaconda3\\lib\\site-packages (from requests-html<0.11.0,>=0.10.0->facebook-scraper) (2.25.1)\n",
      "Collecting pyppeteer>=0.0.14\n",
      "  Using cached pyppeteer-0.2.6-py3-none-any.whl (83 kB)\n",
      "Collecting parse\n",
      "  Using cached parse-1.19.0.tar.gz (30 kB)\n",
      "Collecting pyquery\n",
      "  Using cached pyquery-1.4.3-py3-none-any.whl (22 kB)\n",
      "Collecting bs4\n",
      "  Using cached bs4-0.0.1.tar.gz (1.1 kB)\n",
      "Collecting websockets<10.0,>=9.1\n",
      "  Downloading websockets-9.1-cp38-cp38-win_amd64.whl (90 kB)\n",
      "Requirement already satisfied: appdirs<2.0.0,>=1.4.3 in c:\\users\\aicha\\anaconda3\\lib\\site-packages (from pyppeteer>=0.0.14->requests-html<0.11.0,>=0.10.0->facebook-scraper) (1.4.4)\n",
      "Requirement already satisfied: urllib3<2.0.0,>=1.25.8 in c:\\users\\aicha\\anaconda3\\lib\\site-packages (from pyppeteer>=0.0.14->requests-html<0.11.0,>=0.10.0->facebook-scraper) (1.26.4)\n",
      "Requirement already satisfied: tqdm<5.0.0,>=4.42.1 in c:\\users\\aicha\\anaconda3\\lib\\site-packages (from pyppeteer>=0.0.14->requests-html<0.11.0,>=0.10.0->facebook-scraper) (4.59.0)\n",
      "Requirement already satisfied: importlib-metadata>=1.4 in c:\\users\\aicha\\anaconda3\\lib\\site-packages (from pyppeteer>=0.0.14->requests-html<0.11.0,>=0.10.0->facebook-scraper) (3.10.0)\n",
      "Collecting pyee<9.0.0,>=8.1.0\n",
      "  Using cached pyee-8.2.2-py2.py3-none-any.whl (12 kB)\n",
      "Requirement already satisfied: zipp>=0.5 in c:\\users\\aicha\\anaconda3\\lib\\site-packages (from importlib-metadata>=1.4->pyppeteer>=0.0.14->requests-html<0.11.0,>=0.10.0->facebook-scraper) (3.4.1)\n",
      "Requirement already satisfied: beautifulsoup4 in c:\\users\\aicha\\anaconda3\\lib\\site-packages (from bs4->requests-html<0.11.0,>=0.10.0->facebook-scraper) (4.9.3)\n",
      "Requirement already satisfied: soupsieve>1.2 in c:\\users\\aicha\\anaconda3\\lib\\site-packages (from beautifulsoup4->bs4->requests-html<0.11.0,>=0.10.0->facebook-scraper) (2.2.1)\n",
      "Collecting cssselect>0.7.9\n",
      "  Using cached cssselect-1.1.0-py2.py3-none-any.whl (16 kB)\n",
      "Requirement already satisfied: lxml>=2.1 in c:\\users\\aicha\\anaconda3\\lib\\site-packages (from pyquery->requests-html<0.11.0,>=0.10.0->facebook-scraper) (4.6.3)\n",
      "Requirement already satisfied: six>=1.5 in c:\\users\\aicha\\anaconda3\\lib\\site-packages (from python-dateutil->dateparser<2.0.0,>=1.0.0->facebook-scraper) (1.15.0)\n",
      "Requirement already satisfied: chardet<5,>=3.0.2 in c:\\users\\aicha\\anaconda3\\lib\\site-packages (from requests->requests-html<0.11.0,>=0.10.0->facebook-scraper) (4.0.0)\n",
      "Requirement already satisfied: idna<3,>=2.5 in c:\\users\\aicha\\anaconda3\\lib\\site-packages (from requests->requests-html<0.11.0,>=0.10.0->facebook-scraper) (2.10)\n",
      "Requirement already satisfied: certifi>=2017.4.17 in c:\\users\\aicha\\anaconda3\\lib\\site-packages (from requests->requests-html<0.11.0,>=0.10.0->facebook-scraper) (2020.12.5)\n",
      "Collecting tzdata\n",
      "  Using cached tzdata-2021.1-py2.py3-none-any.whl (338 kB)\n",
      "Collecting backports.zoneinfo\n",
      "  Downloading backports.zoneinfo-0.2.1-cp38-cp38-win_amd64.whl (38 kB)\n",
      "Building wheels for collected packages: demjson, bs4, fake-useragent, parse\n",
      "  Building wheel for demjson (setup.py): started\n",
      "  Building wheel for demjson (setup.py): finished with status 'done'\n",
      "  Created wheel for demjson: filename=demjson-2.2.4-py3-none-any.whl size=73545 sha256=e9f7e84a928e86296c0bf61f74d218f344b08d1481ae74da7821785503c25891\n",
      "  Stored in directory: c:\\users\\aicha\\appdata\\local\\pip\\cache\\wheels\\9c\\c3\\a5\\ad09d152d6b4b24c3f3b6fe2793092ac03e2521e08240d28cf\n",
      "  Building wheel for bs4 (setup.py): started\n",
      "  Building wheel for bs4 (setup.py): finished with status 'done'\n",
      "  Created wheel for bs4: filename=bs4-0.0.1-py3-none-any.whl size=1273 sha256=b36a871dfc65310504beea2f90230ac9b6a57a5d1ef17b8a8103f24b3855167a\n",
      "  Stored in directory: c:\\users\\aicha\\appdata\\local\\pip\\cache\\wheels\\75\\78\\21\\68b124549c9bdc94f822c02fb9aa3578a669843f9767776bca\n",
      "  Building wheel for fake-useragent (setup.py): started\n",
      "  Building wheel for fake-useragent (setup.py): finished with status 'done'\n",
      "  Created wheel for fake-useragent: filename=fake_useragent-0.1.11-py3-none-any.whl size=13486 sha256=bb6b1caac5f9c6655df364b00f232626e6d36a2e5402c4ddee9c84542e1e81a2\n",
      "  Stored in directory: c:\\users\\aicha\\appdata\\local\\pip\\cache\\wheels\\a0\\b8\\b7\\8c942b2c5be5158b874a88195116b05ad124bac795f6665e65\n",
      "  Building wheel for parse (setup.py): started\n",
      "  Building wheel for parse (setup.py): finished with status 'done'\n",
      "  Created wheel for parse: filename=parse-1.19.0-py3-none-any.whl size=24581 sha256=ca85593a5220979c94e7d402c2440eb483122d6ae660c57908e8a1b259353062\n",
      "  Stored in directory: c:\\users\\aicha\\appdata\\local\\pip\\cache\\wheels\\e5\\33\\1f\\68392720485b3ecf125a69e700baaab7624616deedea2fa6e2\n",
      "Successfully built demjson bs4 fake-useragent parse\n",
      "Installing collected packages: websockets, tzdata, pyee, cssselect, backports.zoneinfo, w3lib, tzlocal, pyquery, pyppeteer, parse, fake-useragent, bs4, requests-html, demjson, dateparser, facebook-scraper\n",
      "Successfully installed backports.zoneinfo-0.2.1 bs4-0.0.1 cssselect-1.1.0 dateparser-1.0.0 demjson-2.2.4 facebook-scraper-0.2.45 fake-useragent-0.1.11 parse-1.19.0 pyee-8.2.2 pyppeteer-0.2.6 pyquery-1.4.3 requests-html-0.10.0 tzdata-2021.1 tzlocal-3.0 w3lib-1.22.0 websockets-9.1\n"
     ]
    }
   ],
   "source": [
    "!pip install facebook-scraper"
   ]
  },
  {
   "cell_type": "code",
   "execution_count": 34,
   "id": "5224ee25",
   "metadata": {},
   "outputs": [
    {
     "name": "stdout",
     "output_type": "stream",
     "text": [
      "Collecting pymongo\n",
      "  Downloading pymongo-3.12.0-cp38-cp38-win_amd64.whl (397 kB)\n",
      "Installing collected packages: pymongo\n",
      "Successfully installed pymongo-3.12.0\n"
     ]
    }
   ],
   "source": [
    "!pip install pymongo"
   ]
  },
  {
   "cell_type": "code",
   "execution_count": 35,
   "id": "6c0583ed",
   "metadata": {},
   "outputs": [
    {
     "name": "stderr",
     "output_type": "stream",
     "text": [
      "<ipython-input-35-c400a20fc911>:9: DeprecationWarning: insert is deprecated. Use insert_one or insert_many instead.\n",
      "  collection.insert(post)\n",
      "C:\\Users\\aicha\\anaconda3\\lib\\site-packages\\facebook_scraper\\facebook_scraper.py:440: UserWarning: Facebook served mbasic/noscript content unexpectedly on https://m.facebook.com/page_content_list_view/more/?page_id=115088669891167&start_cursor=%7B%22timeline_cursor%22:%22AQHR3pyr5bwQf3INuPaAaV-015oUM5xI5k9gGSB2-ECjVCq2TDsxAe-MvjvSrYjwMKB6dmQY3_NosTZc-95lZCyS020oQA-Y5afcJK1wa_uo5spFCJKFX3fmnVx_FF2OGmuI%22,%22timeline_section_cursor%22:null,%22has_next_page%22:true%7D&num_to_fetch=4&surface_type=posts_tab\n",
      "  warnings.warn(\n",
      "C:\\Users\\aicha\\anaconda3\\lib\\site-packages\\facebook_scraper\\facebook_scraper.py:440: UserWarning: Facebook served mbasic/noscript content unexpectedly on https://m.facebook.com/page_content_list_view/more/?page_id=115088669891167&start_cursor=%7B%22timeline_cursor%22:%22AQHRqLPJcE3j4zgPfdjiZ2-nGyJ3e07S6pKmxUj7a5ssXNN63-AUENz8o8NRVqeMmJDirlj2ttEihufQe-M6BtBdgwsnwQRgKFvgMa1yIlarCX23H8GH8JqfX4tn-9jiykSr%22,%22timeline_section_cursor%22:null,%22has_next_page%22:true%7D&num_to_fetch=4&surface_type=posts_tab\n",
      "  warnings.warn(\n",
      "C:\\Users\\aicha\\anaconda3\\lib\\site-packages\\facebook_scraper\\facebook_scraper.py:440: UserWarning: Facebook served mbasic/noscript content unexpectedly on https://m.facebook.com/page_content_list_view/more/?page_id=115088669891167&start_cursor=%7B%22timeline_cursor%22:%22AQHRE3byfbz9hXemIg6eqndimTYHIjl-iEVh6erjNd-nCriaB26PoklPUfkwCKcz_YoK1JxF-dbQkPCENh03siF5VTrWYgsfzcdrIqxdH26Zu5mFSY18chOi4cdepmX6_01-%22,%22timeline_section_cursor%22:null,%22has_next_page%22:true%7D&num_to_fetch=4&surface_type=posts_tab\n",
      "  warnings.warn(\n",
      "C:\\Users\\aicha\\anaconda3\\lib\\site-packages\\facebook_scraper\\facebook_scraper.py:440: UserWarning: Facebook served mbasic/noscript content unexpectedly on https://m.facebook.com/page_content_list_view/more/?page_id=115088669891167&start_cursor=%7B%22timeline_cursor%22:%22AQHRWpBD_KgHki3-ZK6axaujfcc_cdweEhc0yLOxDBm1a44xVbxJFUcnvKJTgzmo3h_lvIHZiUPDgz_N8ONqldkK0G6s0bhhX5AXYvKo-VPP59LNwnxMK1UMgXoGVrO_IURB%22,%22timeline_section_cursor%22:null,%22has_next_page%22:true%7D&num_to_fetch=4&surface_type=posts_tab\n",
      "  warnings.warn(\n",
      "C:\\Users\\aicha\\anaconda3\\lib\\site-packages\\facebook_scraper\\facebook_scraper.py:440: UserWarning: Facebook served mbasic/noscript content unexpectedly on https://m.facebook.com/page_content_list_view/more/?page_id=115088669891167&start_cursor=%7B%22timeline_cursor%22:%22AQHRPBX9SDuyKalz9v-guKRzNXQ9Im0UpLTrBvgNBXv2d3mqzbZewZTbR6PYoaucacyuQmOpPh3La6LOBmqxLotGxiVrZ4otAT02acUayzqIM-aaXt1ONt85nUBn5gi9xNCY%22,%22timeline_section_cursor%22:null,%22has_next_page%22:true%7D&num_to_fetch=4&surface_type=posts_tab\n",
      "  warnings.warn(\n",
      "C:\\Users\\aicha\\anaconda3\\lib\\site-packages\\facebook_scraper\\facebook_scraper.py:440: UserWarning: Facebook served mbasic/noscript content unexpectedly on https://m.facebook.com/page_content_list_view/more/?page_id=115088669891167&start_cursor=%7B%22timeline_cursor%22:%22AQHRPBPboeKc9aJnmhy4emkuJCpfVrPgcsIUlJfuHClYqrouC5g3MTvMr01S9IlYPZX33o3HSBczZp1m3ySrV-41b4KrgYBUjZH3PSBRHcK7vldLef99-jDq6x39vU5fzB1o%22,%22timeline_section_cursor%22:null,%22has_next_page%22:true%7D&num_to_fetch=4&surface_type=posts_tab\n",
      "  warnings.warn(\n",
      "C:\\Users\\aicha\\anaconda3\\lib\\site-packages\\facebook_scraper\\facebook_scraper.py:440: UserWarning: Facebook served mbasic/noscript content unexpectedly on https://m.facebook.com/page_content_list_view/more/?page_id=115088669891167&start_cursor=%7B%22timeline_cursor%22:%22AQHRwJqlq09mvkiW61BZk7fvXQMVZqKAjfeXGX7gqLVjyKmHUblYFsZ9OeU00Rl2jkWPMDWdIzEhOgepKIca3lutIuujUaLQy01n8EJb1_gYgfx89l1TM8zErl2uA01cuUhN%22,%22timeline_section_cursor%22:null,%22has_next_page%22:true%7D&num_to_fetch=4&surface_type=posts_tab\n",
      "  warnings.warn(\n",
      "C:\\Users\\aicha\\anaconda3\\lib\\site-packages\\facebook_scraper\\facebook_scraper.py:440: UserWarning: Facebook served mbasic/noscript content unexpectedly on https://m.facebook.com/page_content_list_view/more/?page_id=115088669891167&start_cursor=%7B%22timeline_cursor%22:%22AQHR5fQo4pygO4DDj1glXzR4Fev4LZ8coS8rI1bMh3CaOg51aroXujXuwych0yW7kGGWF_Fho-kMSzfcKOKnUZeQb1nKL_lbD9bUzv6V-xq6pijOmsAG8pWO0KLPtZL_eT69%22,%22timeline_section_cursor%22:null,%22has_next_page%22:true%7D&num_to_fetch=4&surface_type=posts_tab\n",
      "  warnings.warn(\n",
      "C:\\Users\\aicha\\anaconda3\\lib\\site-packages\\facebook_scraper\\facebook_scraper.py:440: UserWarning: Facebook served mbasic/noscript content unexpectedly on https://m.facebook.com/page_content_list_view/more/?page_id=115088669891167&start_cursor=%7B%22timeline_cursor%22:%22AQHRdPJxaUJlGgUpgXH6JCcTnXdhPV0YwL0OyfYGMrBO2q8ENOQRVOZf-caECIshFvsKK6Esa4UedIiiGhoDY1OrbLWMI4dX-gs1ma_39qPi25tyqlU-s152AqEa3ed_Hr1a%22,%22timeline_section_cursor%22:null,%22has_next_page%22:true%7D&num_to_fetch=4&surface_type=posts_tab\n",
      "  warnings.warn(\n",
      "C:\\Users\\aicha\\anaconda3\\lib\\site-packages\\facebook_scraper\\facebook_scraper.py:440: UserWarning: Facebook served mbasic/noscript content unexpectedly on https://m.facebook.com/page_content_list_view/more/?page_id=115088669891167&start_cursor=%7B%22timeline_cursor%22:%22AQHRV1Ys6finnViGXSku5axO3AhNHKQQ692P3Y9yzS9CCRhU16wwI1xK4QyXS_vqbLQ7lEkwK2IYNmfRZvmVqoRpuOUaObUisKwQLtFHihaMxA7Wj14Q_pWVUM74fCOiWL_F%22,%22timeline_section_cursor%22:null,%22has_next_page%22:true%7D&num_to_fetch=4&surface_type=posts_tab\n",
      "  warnings.warn(\n",
      "C:\\Users\\aicha\\anaconda3\\lib\\site-packages\\facebook_scraper\\facebook_scraper.py:440: UserWarning: Facebook served mbasic/noscript content unexpectedly on https://m.facebook.com/page_content_list_view/more/?page_id=115088669891167&start_cursor=%7B%22timeline_cursor%22:%22AQHRRw5H3MDQzNQxuAeVUmsRoa7Mx6ggS9gfgaXiScjm8EshYjlgrbT6HKPo6pjpFXrggf94y03kGC7_D86dVzYGVl2ivvOKHTbkf5aNhZncGUDGgQPXWUM1qV82tBmOYCL1%22,%22timeline_section_cursor%22:null,%22has_next_page%22:true%7D&num_to_fetch=4&surface_type=posts_tab\n",
      "  warnings.warn(\n",
      "C:\\Users\\aicha\\anaconda3\\lib\\site-packages\\facebook_scraper\\facebook_scraper.py:440: UserWarning: Facebook served mbasic/noscript content unexpectedly on https://m.facebook.com/page_content_list_view/more/?page_id=115088669891167&start_cursor=%7B%22timeline_cursor%22:%22AQHR-dHMcdp97F6u9wGHgQjganwvQgOY4iaH5gP9LGdk1kj80VRplGc4xxYSBpBkF7SrplKB_2DvLainmegHuy8f0Xv9Oa7m016vtcZH6hovXhE9pVX0aYnKhJXrwoJIo63S%22,%22timeline_section_cursor%22:null,%22has_next_page%22:true%7D&num_to_fetch=4&surface_type=posts_tab\n",
      "  warnings.warn(\n",
      "C:\\Users\\aicha\\anaconda3\\lib\\site-packages\\facebook_scraper\\facebook_scraper.py:440: UserWarning: Facebook served mbasic/noscript content unexpectedly on https://m.facebook.com/page_content_list_view/more/?page_id=115088669891167&start_cursor=%7B%22timeline_cursor%22:%22AQHRdhmg4k_755mNakhVgAJiJ_1K-mNU-3l08fU_tFGOPgwH1bPDECrX1l-jXlECJKDHawZvpP9znw7GEaIwGWoxTNFAA-6oELP-Zqm2oueSCMd7yNyS2DgjXwL8fu3FX8fs%22,%22timeline_section_cursor%22:null,%22has_next_page%22:true%7D&num_to_fetch=4&surface_type=posts_tab\n",
      "  warnings.warn(\n",
      "C:\\Users\\aicha\\anaconda3\\lib\\site-packages\\facebook_scraper\\facebook_scraper.py:440: UserWarning: Facebook served mbasic/noscript content unexpectedly on https://m.facebook.com/page_content_list_view/more/?page_id=115088669891167&start_cursor=%7B%22timeline_cursor%22:%22AQHRtFbLVxSQwAaPDxomhQrep9pmL920t7hj75d_RtsSnVGpEPO1KKLOvqf7lOFX3ip9GQRWQkwuqLMY18Wxc-Am3AJwhnpzrnP5tTXuHoXe-SADgxMhPTTKFkHuk8pKCqew%22,%22timeline_section_cursor%22:null,%22has_next_page%22:true%7D&num_to_fetch=4&surface_type=posts_tab\n",
      "  warnings.warn(\n",
      "C:\\Users\\aicha\\anaconda3\\lib\\site-packages\\facebook_scraper\\facebook_scraper.py:440: UserWarning: Facebook served mbasic/noscript content unexpectedly on https://m.facebook.com/page_content_list_view/more/?page_id=115088669891167&start_cursor=%7B%22timeline_cursor%22:%22AQHRhX40OvGr_RSHWq_9tKlbkvuBlODm6dlESCBeg2FE03nVPDQE4ldyrYyhUXez0kTbWfwYdOZHmlF4vVawdHgMghzJ_9nj_TKwMTinaV1p3iCvBfxwdtAdo61sT5FXgkX-%22,%22timeline_section_cursor%22:null,%22has_next_page%22:true%7D&num_to_fetch=4&surface_type=posts_tab\n",
      "  warnings.warn(\n",
      "C:\\Users\\aicha\\anaconda3\\lib\\site-packages\\facebook_scraper\\facebook_scraper.py:440: UserWarning: Facebook served mbasic/noscript content unexpectedly on https://m.facebook.com/page_content_list_view/more/?page_id=115088669891167&start_cursor=%7B%22timeline_cursor%22:%22AQHRNoAagnZas7JwjkVGgBSJ-9ocOStHuqoPn6qOz6Q2LwSLGxu6xJnDL9JZ8CDO-eL8LAm_2P_e_tzmJc8fNUxQ9ne9x3jyaZ_C8sf5VWWcWtf2LUIUjZU5W-ZBBfUIPZqG%22,%22timeline_section_cursor%22:null,%22has_next_page%22:true%7D&num_to_fetch=4&surface_type=posts_tab\n",
      "  warnings.warn(\n"
     ]
    },
    {
     "name": "stderr",
     "output_type": "stream",
     "text": [
      "C:\\Users\\aicha\\anaconda3\\lib\\site-packages\\facebook_scraper\\facebook_scraper.py:440: UserWarning: Facebook served mbasic/noscript content unexpectedly on https://m.facebook.com/page_content_list_view/more/?page_id=115088669891167&start_cursor=%7B%22timeline_cursor%22:%22AQHRwSJiCzv_IRQZ12pKaruoZIUzXR3XD_CCXGelqTS7Z2pJwB11t7WmnzROJRGkDbxakk2QmL3g8m1T-D6KlZMYUkm_JjhcyAaGDEiJkuvfWLdW2HJjOX9MKfoiIWOcM4gu%22,%22timeline_section_cursor%22:null,%22has_next_page%22:true%7D&num_to_fetch=4&surface_type=posts_tab\n",
      "  warnings.warn(\n",
      "C:\\Users\\aicha\\anaconda3\\lib\\site-packages\\facebook_scraper\\facebook_scraper.py:440: UserWarning: Facebook served mbasic/noscript content unexpectedly on https://m.facebook.com/page_content_list_view/more/?page_id=115088669891167&start_cursor=%7B%22timeline_cursor%22:%22AQHR_GOOPImn4RcJmUsOSif2Bf1qsPP0UnjbF0TiDWs8-8GEDj8keaxTtKzYImi2zSZmF4_hxFjd55EEdKcCfY3_xkM42S5CjLBM1CTKg0s5-uYWVfqEPjeSMbta02p6LHKS%22,%22timeline_section_cursor%22:null,%22has_next_page%22:true%7D&num_to_fetch=4&surface_type=posts_tab\n",
      "  warnings.warn(\n",
      "C:\\Users\\aicha\\anaconda3\\lib\\site-packages\\facebook_scraper\\facebook_scraper.py:440: UserWarning: Facebook served mbasic/noscript content unexpectedly on https://m.facebook.com/page_content_list_view/more/?page_id=115088669891167&start_cursor=%7B%22timeline_cursor%22:%22AQHREGkOe82wye_gNFB6k9dvTLAR-3mAeHATdOBI7yyFauCQb1rMylmZEvlgWKxmamNMbWL_mhVCQW2hMLFoagb0kkEl83UGCpWUSyLSPrDGbcNA4krg7RjhdOn-1lx3PLSF%22,%22timeline_section_cursor%22:null,%22has_next_page%22:true%7D&num_to_fetch=4&surface_type=posts_tab\n",
      "  warnings.warn(\n",
      "C:\\Users\\aicha\\anaconda3\\lib\\site-packages\\facebook_scraper\\facebook_scraper.py:440: UserWarning: Facebook served mbasic/noscript content unexpectedly on https://m.facebook.com/page_content_list_view/more/?page_id=115088669891167&start_cursor=%7B%22timeline_cursor%22:%22AQHRBVvPpT9rCmjF_BfrVQYHuRyHKJ2KXXKbh-W13LG-jIoLGa7ktxuMhADQiPPs5iXdxdNvBVmRMoPky1p_V3Nk2WVSGeppgAZzIDjRjp-IKAn0GgJDnoPLUI5H_Cb_fCPo%22,%22timeline_section_cursor%22:null,%22has_next_page%22:true%7D&num_to_fetch=4&surface_type=posts_tab\n",
      "  warnings.warn(\n",
      "C:\\Users\\aicha\\anaconda3\\lib\\site-packages\\facebook_scraper\\facebook_scraper.py:440: UserWarning: Facebook served mbasic/noscript content unexpectedly on https://m.facebook.com/page_content_list_view/more/?page_id=115088669891167&start_cursor=%7B%22timeline_cursor%22:%22AQHRGd7LAwmZz0cwUoZOriCfiL0mu6OyO4FHSvbIzCt44nEYdfwRAVm4GlTK3JFgr7vMEGw1jv3erPPKwXwWJlMpakEjr97PZqcVrl_CmNacYmBTkPvb_xuXpAuEDGWGsthq%22,%22timeline_section_cursor%22:null,%22has_next_page%22:true%7D&num_to_fetch=4&surface_type=posts_tab\n",
      "  warnings.warn(\n",
      "C:\\Users\\aicha\\anaconda3\\lib\\site-packages\\facebook_scraper\\facebook_scraper.py:440: UserWarning: Facebook served mbasic/noscript content unexpectedly on https://m.facebook.com/page_content_list_view/more/?page_id=115088669891167&start_cursor=%7B%22timeline_cursor%22:%22AQHRl_Urfucy49_Yq8f9Vn-vfc6Iqso4LR_bx2xy0BjflU_Iif-aMWYf3704HKh6Dq9hO5Dk1LwnS9kBWbu4zjq_3ybVy707SbMGHgga-MHE5j2itTD5ioxBXdDTbBMCtC6e%22,%22timeline_section_cursor%22:null,%22has_next_page%22:true%7D&num_to_fetch=4&surface_type=posts_tab\n",
      "  warnings.warn(\n"
     ]
    }
   ],
   "source": [
    "from pymongo import MongoClient\n",
    "\n",
    "# Create connection to MongoDB\n",
    "client = MongoClient('localhost', 27017)\n",
    "db = client['facebook_db']\n",
    "collection = db['posts']\n",
    "for post in get_posts('Hommage-à-Jacques-Chirac-115088669891167', pages=1000):\n",
    "# Insert the dictionary into Mongo\n",
    "    collection.insert(post)"
   ]
  },
  {
   "cell_type": "code",
   "execution_count": null,
   "id": "ad7380ba",
   "metadata": {},
   "outputs": [],
   "source": []
  }
 ],
 "metadata": {
  "kernelspec": {
   "display_name": "Python 3",
   "language": "python",
   "name": "python3"
  },
  "language_info": {
   "codemirror_mode": {
    "name": "ipython",
    "version": 3
   },
   "file_extension": ".py",
   "mimetype": "text/x-python",
   "name": "python",
   "nbconvert_exporter": "python",
   "pygments_lexer": "ipython3",
   "version": "3.8.8"
  }
 },
 "nbformat": 4,
 "nbformat_minor": 5
}
